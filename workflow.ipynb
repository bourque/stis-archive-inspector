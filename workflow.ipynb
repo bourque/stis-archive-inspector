{
 "cells": [
  {
   "cell_type": "code",
   "execution_count": 2,
   "metadata": {},
   "outputs": [],
   "source": [
    "import numpy as np\n",
    "import pandas as pd\n",
    "import glob\n",
    "import os\n",
    "import sys\n",
    "import datetime\n",
    "from collections import Counter"
   ]
  },
  {
   "cell_type": "markdown",
   "metadata": {},
   "source": [
    "## Visualizing the STIS Data Archive"
   ]
  },
  {
   "cell_type": "markdown",
   "metadata": {},
   "source": [
    "### Storing metadata in an pandas dataframe\n",
    "Currently, we can grab higher level metadata from MAST, the below code was written by Sean Lockwood and constructs a pandas dataframe of STIS metadata out of all STIS science observations. This doesn't yet take advantage of astroquery's MAST API, but that is on the to-do list. Once lower-level metadata comes to astroquery (Hopefully Fall 2019?) we will wrap that into this project."
   ]
  },
  {
   "cell_type": "code",
   "execution_count": 20,
   "metadata": {},
   "outputs": [
    {
     "name": "stdout",
     "output_type": "stream",
     "text": [
      "Number rows:  108231\n"
     ]
    }
   ],
   "source": [
    "def download_mast_metadata(datatype='S', instrument='STIS',output_csv=False):\n",
    "    '''\n",
    "    Downloads all HST/{STIS,COS} science metadata from MAST.\n",
    "    \n",
    "    'datatype' is one of:\n",
    "        'S'         -- science obserations (default)\n",
    "        'C'         -- calibration observations\n",
    "        '%' | 'ALL' -- both science and calibration observations\n",
    "    \n",
    "    Mast documentation:\n",
    "        MAST GET Requests:      https://archive.stsci.edu/vo/mast_services.html#GET\n",
    "        HST-specific keywords:  https://archive.stsci.edu/search_fields.php?mission=hst\n",
    "    '''\n",
    "    import urllib.request\n",
    "    import urllib.parse\n",
    "    \n",
    "    # Determine if we want 'science', 'calibration', or 'all' datasets:\n",
    "    datatype = datatype.upper()\n",
    "    assert datatype in ['S', 'C', '%', 'ALL'], \"'datatype' is not a valid selection.\"\n",
    "    if datatype == 'ALL':\n",
    "        datatype = '%'\n",
    "    \n",
    "    url = 'https://archive.stsci.edu/hst/search.php'\n",
    "    \n",
    "    # Output columns\n",
    "    selectedColumnsCsv = \\\n",
    "        'sci_data_set_name,'      + \\\n",
    "        'sci_obset_id,'           + \\\n",
    "        'sci_targname,'           + \\\n",
    "        'sci_start_time,'         + \\\n",
    "        'sci_stop_time,'          + \\\n",
    "        'sci_actual_duration,'    + \\\n",
    "        'sci_instrume,'           + \\\n",
    "        'sci_instrument_config,'  + \\\n",
    "        'sci_operating_mode,'     + \\\n",
    "        'sci_aper_1234,'          + \\\n",
    "        'sci_spec_1234,'          + \\\n",
    "        'sci_central_wavelength,' + \\\n",
    "        'sci_fgslock,'            + \\\n",
    "        'sci_mtflag,'             + \\\n",
    "        'sci_pep_id,'             + \\\n",
    "        'sci_aec,'                + \\\n",
    "        'sci_obs_type,'           + \\\n",
    "        'scp_scan_type'\n",
    "    \n",
    "    # Loop year-by-year to avoid data limits:\n",
    "    all_years = []\n",
    "    for year in np.arange(1997, datetime.datetime.now().year + 1):\n",
    "        print ('Working on {}...'.format(year))\n",
    "        data = [ \\\n",
    "            ('sci_instrume',       instrument), \n",
    "            ('sci_aec',            datatype), \n",
    "            ('sci_start_time',     'Jan 1 {} .. Jan 1 {}'.format(year, year+1)), \n",
    "            ('max_records',        '25000'), \n",
    "            ('ordercolumn1',       'sci_start_time'), \n",
    "            ('outputformat',       'JSON'), \n",
    "            ('selectedColumnsCsv', selectedColumnsCsv), \n",
    "            ('nonull',             'on'), \n",
    "            ('action',             'Search'), ]\n",
    "        \n",
    "        try:\n",
    "            url_values = urllib.parse.urlencode(data)\n",
    "            full_url = url + '?' + url_values\n",
    "            #print (full_url)\n",
    "            with urllib.request.urlopen(full_url) as response:\n",
    "                json_file = response.read()\n",
    "            \n",
    "            # Convert to Pandas table:\n",
    "            all_years.append(pd.read_json(json_file.decode()))\n",
    "        except ValueError:\n",
    "            pass  # Sad years with no data\n",
    "    \n",
    "    # Concatenate individual years together:\n",
    "    mast = pd.concat(all_years)\n",
    "    \n",
    "    # Modify/add some rows:\n",
    "    mast['Start Time'] = [datetime.datetime.strptime(x, '%Y-%m-%d %H:%M:%S') for x in mast['Start Time']]\n",
    "    mast['obstype'] = ['Imaging' if 'MIR' in x else 'Spectroscopic' for x in mast['Filters/Gratings']]\n",
    "    mast.loc[mast['Apertures'] == '50CORON', 'obstype'] = 'Coronagraphic'\n",
    "    mast['Instrument Config'] = [x.strip() for x in mast['Instrument Config']]\n",
    "    \n",
    "    if output_csv == True:\n",
    "        mast.to_csv(\"stis_archive.csv\")\n",
    "    return mast\n",
    "\n",
    "generate = False\n",
    "if generate:\n",
    "    mast = download_mast_metadata(instrument='STIS', output_csv=True)  # Or analyze 'COS'\n",
    "else:\n",
    "    mast = pd.read_csv(\"stis_archive.csv\",dtype=str)\n",
    "    mast = mast[mast.keys()[1:]]\n",
    "print ('Number rows:  {}'.format(len(mast)))"
   ]
  },
  {
   "cell_type": "code",
   "execution_count": null,
   "metadata": {},
   "outputs": [],
   "source": []
  },
  {
   "cell_type": "code",
   "execution_count": null,
   "metadata": {},
   "outputs": [],
   "source": []
  }
 ],
 "metadata": {
  "kernelspec": {
   "display_name": "Python 3",
   "language": "python",
   "name": "python3"
  },
  "language_info": {
   "codemirror_mode": {
    "name": "ipython",
    "version": 3
   },
   "file_extension": ".py",
   "mimetype": "text/x-python",
   "name": "python",
   "nbconvert_exporter": "python",
   "pygments_lexer": "ipython3",
   "version": "3.6.8"
  }
 },
 "nbformat": 4,
 "nbformat_minor": 2
}
